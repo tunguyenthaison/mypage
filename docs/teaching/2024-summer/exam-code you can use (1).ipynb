{
 "cells": [
  {
   "cell_type": "markdown",
   "id": "9960d5c0",
   "metadata": {},
   "source": [
    "## Some python commands you may use during this exam follow:"
   ]
  },
  {
   "cell_type": "code",
   "execution_count": null,
   "id": "a52446b9",
   "metadata": {},
   "outputs": [],
   "source": [
    "#import numpy as np\n",
    "# A = np.array([[10,20],[30,40]])\n",
    "# A = np.matrix([[50,60],[70,80]])\n",
    "\n",
    "# Atranspose = A.T\n",
    "\n",
    "# x = np.linalg.solve(A,b)\n",
    "\n",
    "# Ainv = np.linalg.inv(A)\n",
    "\n",
    "# detA = np.linalg.det(A)\n",
    "\n",
    "# eigvals,eigvecs = np.linalg.eig(A)\n",
    "\n",
    "# U,s,Vt = np.linalg.svd(A)\n",
    "\n",
    "# dot product: np.dot(u,v)\n",
    "\n",
    "\n",
    "#import sympy as sym\n",
    "# A = sym.Matrix([[3,5,-4,3,2], [-3,-2,4,-3,2], [6,1,-8,6,-8]])\n",
    "# A_rref = A.rref()[0]\n",
    "# Ainv=A.inv()\n",
    "\n"
   ]
  }
 ],
 "metadata": {
  "kernelspec": {
   "display_name": "Python 3 (ipykernel)",
   "language": "python",
   "name": "python3"
  },
  "language_info": {
   "codemirror_mode": {
    "name": "ipython",
    "version": 3
   },
   "file_extension": ".py",
   "mimetype": "text/x-python",
   "name": "python",
   "nbconvert_exporter": "python",
   "pygments_lexer": "ipython3",
   "version": "3.11.3"
  }
 },
 "nbformat": 4,
 "nbformat_minor": 5
}
